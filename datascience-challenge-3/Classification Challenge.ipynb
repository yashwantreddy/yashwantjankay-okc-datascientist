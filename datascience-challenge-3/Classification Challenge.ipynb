{
 "cells": [
  {
   "cell_type": "code",
   "execution_count": 1,
   "metadata": {},
   "outputs": [],
   "source": [
    "import pandas as pd\n",
    "import numpy as np\n",
    "import matplotlib.pyplot as plt\n",
    "import seaborn as sns\n",
    "%matplotlib inline"
   ]
  },
  {
   "cell_type": "code",
   "execution_count": 2,
   "metadata": {},
   "outputs": [],
   "source": [
    "average_age_df = pd.read_csv('classification/classification/Average Age by PUMA.zip', compression='zip')\n",
    "average_sal_df = pd.read_csv('classification/classification/Average Salary (Full-Time Employees) by PUMA.zip', compression='zip')\n",
    "average_tt_df = pd.read_csv('classification/classification/Average Travel Time by County.zip', compression='zip')\n",
    "obesity_df = pd.read_csv('classification/classification/Data USA - Map of Obesity Prevalence by County.zip', compression='zip')\n",
    "workforce_fulltime_df = pd.read_csv('classification/classification/Full-Time People in Workforce by PUMA.zip', compression='zip')\n",
    "gini_df = pd.read_csv('classification/classification/GINI by PUMA.zip', compression='zip')\n",
    "poverty_df = pd.read_csv('classification/classification/Map of Poverty Rate by MSA.zip', compression='zip')\n",
    "uninsured_df = pd.read_csv('classification/classification/Percent Uninsured (Adults) by County.zip', compression='zip')\n",
    "population_df = pd.read_csv('classification/classification/Population by MSA.zip', compression='zip')\n",
    "rural_pop_df = pd.read_csv('classification/classification/Rural Population by County.zip', compression='zip')"
   ]
  },
  {
   "cell_type": "markdown",
   "metadata": {},
   "source": [
    "Let's take a sneak peek at what these dataframes look like. "
   ]
  },
  {
   "cell_type": "code",
   "execution_count": 3,
   "metadata": {},
   "outputs": [
    {
     "data": {
      "text/html": [
       "<div>\n",
       "<style>\n",
       "    .dataframe thead tr:only-child th {\n",
       "        text-align: right;\n",
       "    }\n",
       "\n",
       "    .dataframe thead th {\n",
       "        text-align: left;\n",
       "    }\n",
       "\n",
       "    .dataframe tbody tr th {\n",
       "        vertical-align: top;\n",
       "    }\n",
       "</style>\n",
       "<table border=\"1\" class=\"dataframe\">\n",
       "  <thead>\n",
       "    <tr style=\"text-align: right;\">\n",
       "      <th></th>\n",
       "      <th>year</th>\n",
       "      <th>geo_name</th>\n",
       "      <th>geo</th>\n",
       "      <th>avg_age</th>\n",
       "      <th>avg_age_moe</th>\n",
       "    </tr>\n",
       "  </thead>\n",
       "  <tbody>\n",
       "    <tr>\n",
       "      <th>0</th>\n",
       "      <td>2015</td>\n",
       "      <td>Lee County (South &amp; West)--Barrier Islands Reg...</td>\n",
       "      <td>79500US1207101</td>\n",
       "      <td>49.4059</td>\n",
       "      <td>1.59668</td>\n",
       "    </tr>\n",
       "    <tr>\n",
       "      <th>1</th>\n",
       "      <td>2014</td>\n",
       "      <td>Lee County (South &amp; West)--Barrier Islands Reg...</td>\n",
       "      <td>79500US1207101</td>\n",
       "      <td>47.8364</td>\n",
       "      <td>1.49067</td>\n",
       "    </tr>\n",
       "    <tr>\n",
       "      <th>2</th>\n",
       "      <td>2015</td>\n",
       "      <td>Northfield &amp; New Trier Townships PUMA, IL</td>\n",
       "      <td>79500US1703416</td>\n",
       "      <td>47.8236</td>\n",
       "      <td>1.01545</td>\n",
       "    </tr>\n",
       "    <tr>\n",
       "      <th>3</th>\n",
       "      <td>2014</td>\n",
       "      <td>Nassau County (Northwest)--North Hempstead Tow...</td>\n",
       "      <td>79500US3603201</td>\n",
       "      <td>47.7300</td>\n",
       "      <td>1.15876</td>\n",
       "    </tr>\n",
       "    <tr>\n",
       "      <th>4</th>\n",
       "      <td>2015</td>\n",
       "      <td>Nassau County (Northwest)--North Hempstead Tow...</td>\n",
       "      <td>79500US3603201</td>\n",
       "      <td>47.5434</td>\n",
       "      <td>1.32727</td>\n",
       "    </tr>\n",
       "  </tbody>\n",
       "</table>\n",
       "</div>"
      ],
      "text/plain": [
       "   year                                           geo_name             geo  \\\n",
       "0  2015  Lee County (South & West)--Barrier Islands Reg...  79500US1207101   \n",
       "1  2014  Lee County (South & West)--Barrier Islands Reg...  79500US1207101   \n",
       "2  2015          Northfield & New Trier Townships PUMA, IL  79500US1703416   \n",
       "3  2014  Nassau County (Northwest)--North Hempstead Tow...  79500US3603201   \n",
       "4  2015  Nassau County (Northwest)--North Hempstead Tow...  79500US3603201   \n",
       "\n",
       "   avg_age  avg_age_moe  \n",
       "0  49.4059      1.59668  \n",
       "1  47.8364      1.49067  \n",
       "2  47.8236      1.01545  \n",
       "3  47.7300      1.15876  \n",
       "4  47.5434      1.32727  "
      ]
     },
     "execution_count": 3,
     "metadata": {},
     "output_type": "execute_result"
    }
   ],
   "source": [
    "average_age_df.head()"
   ]
  },
  {
   "cell_type": "code",
   "execution_count": 4,
   "metadata": {},
   "outputs": [
    {
     "data": {
      "text/html": [
       "<div>\n",
       "<style>\n",
       "    .dataframe thead tr:only-child th {\n",
       "        text-align: right;\n",
       "    }\n",
       "\n",
       "    .dataframe thead th {\n",
       "        text-align: left;\n",
       "    }\n",
       "\n",
       "    .dataframe tbody tr th {\n",
       "        vertical-align: top;\n",
       "    }\n",
       "</style>\n",
       "<table border=\"1\" class=\"dataframe\">\n",
       "  <thead>\n",
       "    <tr style=\"text-align: right;\">\n",
       "      <th></th>\n",
       "      <th>year</th>\n",
       "      <th>geo_name</th>\n",
       "      <th>geo</th>\n",
       "      <th>avg_wage_ft</th>\n",
       "      <th>avg_wage_ft_moe</th>\n",
       "    </tr>\n",
       "  </thead>\n",
       "  <tbody>\n",
       "    <tr>\n",
       "      <th>0</th>\n",
       "      <td>2014</td>\n",
       "      <td>Fairfield, New Canaan, Wilton, Weston &amp; Easton...</td>\n",
       "      <td>79500US0900101</td>\n",
       "      <td>170446.0</td>\n",
       "      <td>15394.5</td>\n",
       "    </tr>\n",
       "    <tr>\n",
       "      <th>1</th>\n",
       "      <td>2015</td>\n",
       "      <td>Battery Park City, Greenwich Village &amp; Soho PU...</td>\n",
       "      <td>79500US3603810</td>\n",
       "      <td>165112.0</td>\n",
       "      <td>13757.0</td>\n",
       "    </tr>\n",
       "    <tr>\n",
       "      <th>2</th>\n",
       "      <td>2015</td>\n",
       "      <td>Fairfield, New Canaan, Wilton, Weston &amp; Easton...</td>\n",
       "      <td>79500US0900101</td>\n",
       "      <td>159994.0</td>\n",
       "      <td>14260.8</td>\n",
       "    </tr>\n",
       "    <tr>\n",
       "      <th>3</th>\n",
       "      <td>2015</td>\n",
       "      <td>Upper East Side PUMA, NY</td>\n",
       "      <td>79500US3603805</td>\n",
       "      <td>154766.0</td>\n",
       "      <td>16604.9</td>\n",
       "    </tr>\n",
       "    <tr>\n",
       "      <th>4</th>\n",
       "      <td>2014</td>\n",
       "      <td>Battery Park City, Greenwich Village &amp; Soho PU...</td>\n",
       "      <td>79500US3603810</td>\n",
       "      <td>153698.0</td>\n",
       "      <td>11882.0</td>\n",
       "    </tr>\n",
       "  </tbody>\n",
       "</table>\n",
       "</div>"
      ],
      "text/plain": [
       "   year                                           geo_name             geo  \\\n",
       "0  2014  Fairfield, New Canaan, Wilton, Weston & Easton...  79500US0900101   \n",
       "1  2015  Battery Park City, Greenwich Village & Soho PU...  79500US3603810   \n",
       "2  2015  Fairfield, New Canaan, Wilton, Weston & Easton...  79500US0900101   \n",
       "3  2015                           Upper East Side PUMA, NY  79500US3603805   \n",
       "4  2014  Battery Park City, Greenwich Village & Soho PU...  79500US3603810   \n",
       "\n",
       "   avg_wage_ft  avg_wage_ft_moe  \n",
       "0     170446.0          15394.5  \n",
       "1     165112.0          13757.0  \n",
       "2     159994.0          14260.8  \n",
       "3     154766.0          16604.9  \n",
       "4     153698.0          11882.0  "
      ]
     },
     "execution_count": 4,
     "metadata": {},
     "output_type": "execute_result"
    }
   ],
   "source": [
    "average_sal_df.head()"
   ]
  },
  {
   "cell_type": "code",
   "execution_count": 5,
   "metadata": {},
   "outputs": [
    {
     "data": {
      "text/html": [
       "<div>\n",
       "<style>\n",
       "    .dataframe thead tr:only-child th {\n",
       "        text-align: right;\n",
       "    }\n",
       "\n",
       "    .dataframe thead th {\n",
       "        text-align: left;\n",
       "    }\n",
       "\n",
       "    .dataframe tbody tr th {\n",
       "        vertical-align: top;\n",
       "    }\n",
       "</style>\n",
       "<table border=\"1\" class=\"dataframe\">\n",
       "  <thead>\n",
       "    <tr style=\"text-align: right;\">\n",
       "      <th></th>\n",
       "      <th>year</th>\n",
       "      <th>geo_name</th>\n",
       "      <th>geo</th>\n",
       "      <th>mean_commute_minutes</th>\n",
       "    </tr>\n",
       "  </thead>\n",
       "  <tbody>\n",
       "    <tr>\n",
       "      <th>0</th>\n",
       "      <td>2015</td>\n",
       "      <td>Pike County</td>\n",
       "      <td>05000US42103</td>\n",
       "      <td>42.1331</td>\n",
       "    </tr>\n",
       "    <tr>\n",
       "      <th>1</th>\n",
       "      <td>2015</td>\n",
       "      <td>Bronx County, NY</td>\n",
       "      <td>05000US36005</td>\n",
       "      <td>41.6023</td>\n",
       "    </tr>\n",
       "    <tr>\n",
       "      <th>2</th>\n",
       "      <td>2015</td>\n",
       "      <td>Richmond County, NY</td>\n",
       "      <td>05000US36085</td>\n",
       "      <td>41.5824</td>\n",
       "    </tr>\n",
       "    <tr>\n",
       "      <th>3</th>\n",
       "      <td>2013</td>\n",
       "      <td>Charles County, MD</td>\n",
       "      <td>05000US24017</td>\n",
       "      <td>41.5622</td>\n",
       "    </tr>\n",
       "    <tr>\n",
       "      <th>4</th>\n",
       "      <td>2015</td>\n",
       "      <td>Queens County, NY</td>\n",
       "      <td>05000US36081</td>\n",
       "      <td>41.5550</td>\n",
       "    </tr>\n",
       "  </tbody>\n",
       "</table>\n",
       "</div>"
      ],
      "text/plain": [
       "   year             geo_name           geo  mean_commute_minutes\n",
       "0  2015          Pike County  05000US42103               42.1331\n",
       "1  2015     Bronx County, NY  05000US36005               41.6023\n",
       "2  2015  Richmond County, NY  05000US36085               41.5824\n",
       "3  2013   Charles County, MD  05000US24017               41.5622\n",
       "4  2015    Queens County, NY  05000US36081               41.5550"
      ]
     },
     "execution_count": 5,
     "metadata": {},
     "output_type": "execute_result"
    }
   ],
   "source": [
    "average_tt_df.head()"
   ]
  },
  {
   "cell_type": "code",
   "execution_count": 6,
   "metadata": {},
   "outputs": [
    {
     "data": {
      "text/html": [
       "<div>\n",
       "<style>\n",
       "    .dataframe thead tr:only-child th {\n",
       "        text-align: right;\n",
       "    }\n",
       "\n",
       "    .dataframe thead th {\n",
       "        text-align: left;\n",
       "    }\n",
       "\n",
       "    .dataframe tbody tr th {\n",
       "        vertical-align: top;\n",
       "    }\n",
       "</style>\n",
       "<table border=\"1\" class=\"dataframe\">\n",
       "  <thead>\n",
       "    <tr style=\"text-align: right;\">\n",
       "      <th></th>\n",
       "      <th>year</th>\n",
       "      <th>geo_name</th>\n",
       "      <th>geo</th>\n",
       "      <th>adult_obesity</th>\n",
       "    </tr>\n",
       "  </thead>\n",
       "  <tbody>\n",
       "    <tr>\n",
       "      <th>0</th>\n",
       "      <td>2015</td>\n",
       "      <td>Greene County</td>\n",
       "      <td>05000US01063</td>\n",
       "      <td>0.481</td>\n",
       "    </tr>\n",
       "    <tr>\n",
       "      <th>1</th>\n",
       "      <td>2017</td>\n",
       "      <td>Claiborne County</td>\n",
       "      <td>05000US28021</td>\n",
       "      <td>0.476</td>\n",
       "    </tr>\n",
       "    <tr>\n",
       "      <th>2</th>\n",
       "      <td>2016</td>\n",
       "      <td>Holmes County</td>\n",
       "      <td>05000US28051</td>\n",
       "      <td>0.466</td>\n",
       "    </tr>\n",
       "    <tr>\n",
       "      <th>3</th>\n",
       "      <td>2016</td>\n",
       "      <td>Lowndes County</td>\n",
       "      <td>05000US01085</td>\n",
       "      <td>0.464</td>\n",
       "    </tr>\n",
       "    <tr>\n",
       "      <th>4</th>\n",
       "      <td>2017</td>\n",
       "      <td>Greene County</td>\n",
       "      <td>05000US01063</td>\n",
       "      <td>0.463</td>\n",
       "    </tr>\n",
       "  </tbody>\n",
       "</table>\n",
       "</div>"
      ],
      "text/plain": [
       "   year          geo_name           geo  adult_obesity\n",
       "0  2015     Greene County  05000US01063          0.481\n",
       "1  2017  Claiborne County  05000US28021          0.476\n",
       "2  2016     Holmes County  05000US28051          0.466\n",
       "3  2016    Lowndes County  05000US01085          0.464\n",
       "4  2017     Greene County  05000US01063          0.463"
      ]
     },
     "execution_count": 6,
     "metadata": {},
     "output_type": "execute_result"
    }
   ],
   "source": [
    "obesity_df.head()"
   ]
  },
  {
   "cell_type": "code",
   "execution_count": 7,
   "metadata": {},
   "outputs": [
    {
     "data": {
      "text/html": [
       "<div>\n",
       "<style>\n",
       "    .dataframe thead tr:only-child th {\n",
       "        text-align: right;\n",
       "    }\n",
       "\n",
       "    .dataframe thead th {\n",
       "        text-align: left;\n",
       "    }\n",
       "\n",
       "    .dataframe tbody tr th {\n",
       "        vertical-align: top;\n",
       "    }\n",
       "</style>\n",
       "<table border=\"1\" class=\"dataframe\">\n",
       "  <thead>\n",
       "    <tr style=\"text-align: right;\">\n",
       "      <th></th>\n",
       "      <th>year</th>\n",
       "      <th>geo_name</th>\n",
       "      <th>geo</th>\n",
       "      <th>num_ppl_ft</th>\n",
       "      <th>num_ppl_ft_moe</th>\n",
       "    </tr>\n",
       "  </thead>\n",
       "  <tbody>\n",
       "    <tr>\n",
       "      <th>0</th>\n",
       "      <td>2014</td>\n",
       "      <td>Upper East Side PUMA, NY</td>\n",
       "      <td>79500US3603805</td>\n",
       "      <td>111187</td>\n",
       "      <td>8544.80</td>\n",
       "    </tr>\n",
       "    <tr>\n",
       "      <th>1</th>\n",
       "      <td>2014</td>\n",
       "      <td>Dale City, Lake Ridge &amp; Woodbridge PUMA, VA</td>\n",
       "      <td>79500US5151246</td>\n",
       "      <td>109545</td>\n",
       "      <td>6227.21</td>\n",
       "    </tr>\n",
       "    <tr>\n",
       "      <th>2</th>\n",
       "      <td>2015</td>\n",
       "      <td>Norman, Oklahoma City (South) &amp; Moore Cities P...</td>\n",
       "      <td>79500US4000900</td>\n",
       "      <td>106946</td>\n",
       "      <td>4752.15</td>\n",
       "    </tr>\n",
       "    <tr>\n",
       "      <th>3</th>\n",
       "      <td>2015</td>\n",
       "      <td>Dale City, Lake Ridge &amp; Woodbridge PUMA, VA</td>\n",
       "      <td>79500US5151246</td>\n",
       "      <td>105317</td>\n",
       "      <td>5301.98</td>\n",
       "    </tr>\n",
       "    <tr>\n",
       "      <th>4</th>\n",
       "      <td>2015</td>\n",
       "      <td>Upper East Side PUMA, NY</td>\n",
       "      <td>79500US3603805</td>\n",
       "      <td>102028</td>\n",
       "      <td>7359.41</td>\n",
       "    </tr>\n",
       "  </tbody>\n",
       "</table>\n",
       "</div>"
      ],
      "text/plain": [
       "   year                                           geo_name             geo  \\\n",
       "0  2014                           Upper East Side PUMA, NY  79500US3603805   \n",
       "1  2014        Dale City, Lake Ridge & Woodbridge PUMA, VA  79500US5151246   \n",
       "2  2015  Norman, Oklahoma City (South) & Moore Cities P...  79500US4000900   \n",
       "3  2015        Dale City, Lake Ridge & Woodbridge PUMA, VA  79500US5151246   \n",
       "4  2015                           Upper East Side PUMA, NY  79500US3603805   \n",
       "\n",
       "   num_ppl_ft  num_ppl_ft_moe  \n",
       "0      111187         8544.80  \n",
       "1      109545         6227.21  \n",
       "2      106946         4752.15  \n",
       "3      105317         5301.98  \n",
       "4      102028         7359.41  "
      ]
     },
     "execution_count": 7,
     "metadata": {},
     "output_type": "execute_result"
    }
   ],
   "source": [
    "workforce_fulltime_df.head()"
   ]
  },
  {
   "cell_type": "code",
   "execution_count": 8,
   "metadata": {},
   "outputs": [
    {
     "data": {
      "text/html": [
       "<div>\n",
       "<style>\n",
       "    .dataframe thead tr:only-child th {\n",
       "        text-align: right;\n",
       "    }\n",
       "\n",
       "    .dataframe thead th {\n",
       "        text-align: left;\n",
       "    }\n",
       "\n",
       "    .dataframe tbody tr th {\n",
       "        vertical-align: top;\n",
       "    }\n",
       "</style>\n",
       "<table border=\"1\" class=\"dataframe\">\n",
       "  <thead>\n",
       "    <tr style=\"text-align: right;\">\n",
       "      <th></th>\n",
       "      <th>year</th>\n",
       "      <th>geo_name</th>\n",
       "      <th>geo</th>\n",
       "      <th>gini</th>\n",
       "    </tr>\n",
       "  </thead>\n",
       "  <tbody>\n",
       "    <tr>\n",
       "      <th>0</th>\n",
       "      <td>2015</td>\n",
       "      <td>Westchester County (Southeast) PUMA</td>\n",
       "      <td>79500US3603104</td>\n",
       "      <td>0.612156</td>\n",
       "    </tr>\n",
       "    <tr>\n",
       "      <th>1</th>\n",
       "      <td>2014</td>\n",
       "      <td>Chapel Hill Town PUMA, NC</td>\n",
       "      <td>79500US3701400</td>\n",
       "      <td>0.603970</td>\n",
       "    </tr>\n",
       "    <tr>\n",
       "      <th>2</th>\n",
       "      <td>2014</td>\n",
       "      <td>Westchester County (Southeast) PUMA</td>\n",
       "      <td>79500US3603104</td>\n",
       "      <td>0.602431</td>\n",
       "    </tr>\n",
       "    <tr>\n",
       "      <th>3</th>\n",
       "      <td>2015</td>\n",
       "      <td>Norwalk, Westport &amp; Darien Towns PUMA, CT</td>\n",
       "      <td>79500US0900103</td>\n",
       "      <td>0.602188</td>\n",
       "    </tr>\n",
       "    <tr>\n",
       "      <th>4</th>\n",
       "      <td>2014</td>\n",
       "      <td>Nassau County (Northeast)--Oyster Bay Town (No...</td>\n",
       "      <td>79500US3603202</td>\n",
       "      <td>0.597974</td>\n",
       "    </tr>\n",
       "  </tbody>\n",
       "</table>\n",
       "</div>"
      ],
      "text/plain": [
       "   year                                           geo_name             geo  \\\n",
       "0  2015                Westchester County (Southeast) PUMA  79500US3603104   \n",
       "1  2014                          Chapel Hill Town PUMA, NC  79500US3701400   \n",
       "2  2014                Westchester County (Southeast) PUMA  79500US3603104   \n",
       "3  2015          Norwalk, Westport & Darien Towns PUMA, CT  79500US0900103   \n",
       "4  2014  Nassau County (Northeast)--Oyster Bay Town (No...  79500US3603202   \n",
       "\n",
       "       gini  \n",
       "0  0.612156  \n",
       "1  0.603970  \n",
       "2  0.602431  \n",
       "3  0.602188  \n",
       "4  0.597974  "
      ]
     },
     "execution_count": 8,
     "metadata": {},
     "output_type": "execute_result"
    }
   ],
   "source": [
    "gini_df.head()"
   ]
  },
  {
   "cell_type": "code",
   "execution_count": 9,
   "metadata": {},
   "outputs": [
    {
     "data": {
      "text/html": [
       "<div>\n",
       "<style>\n",
       "    .dataframe thead tr:only-child th {\n",
       "        text-align: right;\n",
       "    }\n",
       "\n",
       "    .dataframe thead th {\n",
       "        text-align: left;\n",
       "    }\n",
       "\n",
       "    .dataframe tbody tr th {\n",
       "        vertical-align: top;\n",
       "    }\n",
       "</style>\n",
       "<table border=\"1\" class=\"dataframe\">\n",
       "  <thead>\n",
       "    <tr style=\"text-align: right;\">\n",
       "      <th></th>\n",
       "      <th>year</th>\n",
       "      <th>geo_name</th>\n",
       "      <th>geo</th>\n",
       "      <th>income_below_poverty</th>\n",
       "      <th>pop_poverty_status</th>\n",
       "      <th>income_below_poverty.1</th>\n",
       "      <th>income_below_poverty_moe</th>\n",
       "      <th>pop_poverty_status.1</th>\n",
       "      <th>pop_poverty_status_moe</th>\n",
       "    </tr>\n",
       "  </thead>\n",
       "  <tbody>\n",
       "    <tr>\n",
       "      <th>0</th>\n",
       "      <td>2015</td>\n",
       "      <td>New York-Newark-Jersey City, NY-NJ-PA Metro Area</td>\n",
       "      <td>31000US35620</td>\n",
       "      <td>2810100.0</td>\n",
       "      <td>19629100.0</td>\n",
       "      <td>2810100.0</td>\n",
       "      <td>22160.0</td>\n",
       "      <td>19629100.0</td>\n",
       "      <td>3677.0</td>\n",
       "    </tr>\n",
       "    <tr>\n",
       "      <th>1</th>\n",
       "      <td>2014</td>\n",
       "      <td>New York-Newark-Jersey City, NY-NJ-PA Metro Area</td>\n",
       "      <td>31000US35620</td>\n",
       "      <td>2781160.0</td>\n",
       "      <td>19514300.0</td>\n",
       "      <td>2781160.0</td>\n",
       "      <td>20507.0</td>\n",
       "      <td>19514300.0</td>\n",
       "      <td>3713.0</td>\n",
       "    </tr>\n",
       "    <tr>\n",
       "      <th>2</th>\n",
       "      <td>2013</td>\n",
       "      <td>New York-Newark-Jersey City, NY-NJ-PA Metro Area</td>\n",
       "      <td>31000US35620</td>\n",
       "      <td>2697430.0</td>\n",
       "      <td>19368500.0</td>\n",
       "      <td>2697430.0</td>\n",
       "      <td>21424.0</td>\n",
       "      <td>19368500.0</td>\n",
       "      <td>3742.0</td>\n",
       "    </tr>\n",
       "    <tr>\n",
       "      <th>3</th>\n",
       "      <td>2014</td>\n",
       "      <td>Los Angeles-Long Beach-Anaheim, CA Metro Area</td>\n",
       "      <td>31000US31080</td>\n",
       "      <td>2197570.0</td>\n",
       "      <td>12868700.0</td>\n",
       "      <td>2197570.0</td>\n",
       "      <td>18801.0</td>\n",
       "      <td>12868700.0</td>\n",
       "      <td>4252.0</td>\n",
       "    </tr>\n",
       "    <tr>\n",
       "      <th>4</th>\n",
       "      <td>2015</td>\n",
       "      <td>Los Angeles-Long Beach-Anaheim, CA Metro Area</td>\n",
       "      <td>31000US31080</td>\n",
       "      <td>2195750.0</td>\n",
       "      <td>12964700.0</td>\n",
       "      <td>2195750.0</td>\n",
       "      <td>17888.0</td>\n",
       "      <td>12964700.0</td>\n",
       "      <td>3633.0</td>\n",
       "    </tr>\n",
       "  </tbody>\n",
       "</table>\n",
       "</div>"
      ],
      "text/plain": [
       "   year                                          geo_name           geo  \\\n",
       "0  2015  New York-Newark-Jersey City, NY-NJ-PA Metro Area  31000US35620   \n",
       "1  2014  New York-Newark-Jersey City, NY-NJ-PA Metro Area  31000US35620   \n",
       "2  2013  New York-Newark-Jersey City, NY-NJ-PA Metro Area  31000US35620   \n",
       "3  2014     Los Angeles-Long Beach-Anaheim, CA Metro Area  31000US31080   \n",
       "4  2015     Los Angeles-Long Beach-Anaheim, CA Metro Area  31000US31080   \n",
       "\n",
       "   income_below_poverty  pop_poverty_status  income_below_poverty.1  \\\n",
       "0             2810100.0          19629100.0               2810100.0   \n",
       "1             2781160.0          19514300.0               2781160.0   \n",
       "2             2697430.0          19368500.0               2697430.0   \n",
       "3             2197570.0          12868700.0               2197570.0   \n",
       "4             2195750.0          12964700.0               2195750.0   \n",
       "\n",
       "   income_below_poverty_moe  pop_poverty_status.1  pop_poverty_status_moe  \n",
       "0                   22160.0            19629100.0                  3677.0  \n",
       "1                   20507.0            19514300.0                  3713.0  \n",
       "2                   21424.0            19368500.0                  3742.0  \n",
       "3                   18801.0            12868700.0                  4252.0  \n",
       "4                   17888.0            12964700.0                  3633.0  "
      ]
     },
     "execution_count": 9,
     "metadata": {},
     "output_type": "execute_result"
    }
   ],
   "source": [
    "poverty_df.head()"
   ]
  },
  {
   "cell_type": "code",
   "execution_count": 10,
   "metadata": {},
   "outputs": [
    {
     "data": {
      "text/html": [
       "<div>\n",
       "<style>\n",
       "    .dataframe thead tr:only-child th {\n",
       "        text-align: right;\n",
       "    }\n",
       "\n",
       "    .dataframe thead th {\n",
       "        text-align: left;\n",
       "    }\n",
       "\n",
       "    .dataframe tbody tr th {\n",
       "        vertical-align: top;\n",
       "    }\n",
       "</style>\n",
       "<table border=\"1\" class=\"dataframe\">\n",
       "  <thead>\n",
       "    <tr style=\"text-align: right;\">\n",
       "      <th></th>\n",
       "      <th>year</th>\n",
       "      <th>geo_name</th>\n",
       "      <th>geo</th>\n",
       "      <th>uninsured_adults</th>\n",
       "    </tr>\n",
       "  </thead>\n",
       "  <tbody>\n",
       "    <tr>\n",
       "      <th>0</th>\n",
       "      <td>2015</td>\n",
       "      <td>Hidalgo County, TX</td>\n",
       "      <td>05000US48215</td>\n",
       "      <td>0.523</td>\n",
       "    </tr>\n",
       "    <tr>\n",
       "      <th>1</th>\n",
       "      <td>2016</td>\n",
       "      <td>Hidalgo County, TX</td>\n",
       "      <td>05000US48215</td>\n",
       "      <td>0.513</td>\n",
       "    </tr>\n",
       "    <tr>\n",
       "      <th>2</th>\n",
       "      <td>2015</td>\n",
       "      <td>Cameron County, TX</td>\n",
       "      <td>05000US48061</td>\n",
       "      <td>0.491</td>\n",
       "    </tr>\n",
       "    <tr>\n",
       "      <th>3</th>\n",
       "      <td>2015</td>\n",
       "      <td>Webb County, TX</td>\n",
       "      <td>05000US48479</td>\n",
       "      <td>0.483</td>\n",
       "    </tr>\n",
       "    <tr>\n",
       "      <th>4</th>\n",
       "      <td>2016</td>\n",
       "      <td>Cameron County, TX</td>\n",
       "      <td>05000US48061</td>\n",
       "      <td>0.475</td>\n",
       "    </tr>\n",
       "  </tbody>\n",
       "</table>\n",
       "</div>"
      ],
      "text/plain": [
       "   year            geo_name           geo uninsured_adults\n",
       "0  2015  Hidalgo County, TX  05000US48215            0.523\n",
       "1  2016  Hidalgo County, TX  05000US48215            0.513\n",
       "2  2015  Cameron County, TX  05000US48061            0.491\n",
       "3  2015     Webb County, TX  05000US48479            0.483\n",
       "4  2016  Cameron County, TX  05000US48061            0.475"
      ]
     },
     "execution_count": 10,
     "metadata": {},
     "output_type": "execute_result"
    }
   ],
   "source": [
    "uninsured_df.head()"
   ]
  },
  {
   "cell_type": "code",
   "execution_count": 11,
   "metadata": {},
   "outputs": [
    {
     "data": {
      "text/html": [
       "<div>\n",
       "<style>\n",
       "    .dataframe thead tr:only-child th {\n",
       "        text-align: right;\n",
       "    }\n",
       "\n",
       "    .dataframe thead th {\n",
       "        text-align: left;\n",
       "    }\n",
       "\n",
       "    .dataframe tbody tr th {\n",
       "        vertical-align: top;\n",
       "    }\n",
       "</style>\n",
       "<table border=\"1\" class=\"dataframe\">\n",
       "  <thead>\n",
       "    <tr style=\"text-align: right;\">\n",
       "      <th></th>\n",
       "      <th>year</th>\n",
       "      <th>geo_name</th>\n",
       "      <th>geo</th>\n",
       "      <th>pop</th>\n",
       "      <th>pop_moe</th>\n",
       "      <th>pop_rank</th>\n",
       "    </tr>\n",
       "  </thead>\n",
       "  <tbody>\n",
       "    <tr>\n",
       "      <th>0</th>\n",
       "      <td>2015</td>\n",
       "      <td>New York-Newark-Jersey City, NY-NJ-PA Metro Area</td>\n",
       "      <td>31000US35620</td>\n",
       "      <td>19979950</td>\n",
       "      <td>0</td>\n",
       "      <td>1.0</td>\n",
       "    </tr>\n",
       "    <tr>\n",
       "      <th>1</th>\n",
       "      <td>2014</td>\n",
       "      <td>New York-Newark-Jersey City, NY-NJ-PA Metro Area</td>\n",
       "      <td>31000US35620</td>\n",
       "      <td>19865045</td>\n",
       "      <td>0</td>\n",
       "      <td>1.0</td>\n",
       "    </tr>\n",
       "    <tr>\n",
       "      <th>2</th>\n",
       "      <td>2013</td>\n",
       "      <td>New York-Newark-Jersey City, NY-NJ-PA Metro Area</td>\n",
       "      <td>31000US35620</td>\n",
       "      <td>19716880</td>\n",
       "      <td>0</td>\n",
       "      <td>1.0</td>\n",
       "    </tr>\n",
       "    <tr>\n",
       "      <th>3</th>\n",
       "      <td>2015</td>\n",
       "      <td>Los Angeles-Long Beach-Anaheim, CA Metro Area</td>\n",
       "      <td>31000US31080</td>\n",
       "      <td>13154457</td>\n",
       "      <td>0</td>\n",
       "      <td>2.0</td>\n",
       "    </tr>\n",
       "    <tr>\n",
       "      <th>4</th>\n",
       "      <td>2014</td>\n",
       "      <td>Los Angeles-Long Beach-Anaheim, CA Metro Area</td>\n",
       "      <td>31000US31080</td>\n",
       "      <td>13060534</td>\n",
       "      <td>0</td>\n",
       "      <td>2.0</td>\n",
       "    </tr>\n",
       "  </tbody>\n",
       "</table>\n",
       "</div>"
      ],
      "text/plain": [
       "   year                                          geo_name           geo  \\\n",
       "0  2015  New York-Newark-Jersey City, NY-NJ-PA Metro Area  31000US35620   \n",
       "1  2014  New York-Newark-Jersey City, NY-NJ-PA Metro Area  31000US35620   \n",
       "2  2013  New York-Newark-Jersey City, NY-NJ-PA Metro Area  31000US35620   \n",
       "3  2015     Los Angeles-Long Beach-Anaheim, CA Metro Area  31000US31080   \n",
       "4  2014     Los Angeles-Long Beach-Anaheim, CA Metro Area  31000US31080   \n",
       "\n",
       "        pop  pop_moe  pop_rank  \n",
       "0  19979950        0       1.0  \n",
       "1  19865045        0       1.0  \n",
       "2  19716880        0       1.0  \n",
       "3  13154457        0       2.0  \n",
       "4  13060534        0       2.0  "
      ]
     },
     "execution_count": 11,
     "metadata": {},
     "output_type": "execute_result"
    }
   ],
   "source": [
    "population_df.head()"
   ]
  },
  {
   "cell_type": "code",
   "execution_count": 12,
   "metadata": {},
   "outputs": [
    {
     "data": {
      "text/html": [
       "<div>\n",
       "<style>\n",
       "    .dataframe thead tr:only-child th {\n",
       "        text-align: right;\n",
       "    }\n",
       "\n",
       "    .dataframe thead th {\n",
       "        text-align: left;\n",
       "    }\n",
       "\n",
       "    .dataframe tbody tr th {\n",
       "        vertical-align: top;\n",
       "    }\n",
       "</style>\n",
       "<table border=\"1\" class=\"dataframe\">\n",
       "  <thead>\n",
       "    <tr style=\"text-align: right;\">\n",
       "      <th></th>\n",
       "      <th>year</th>\n",
       "      <th>geo_name</th>\n",
       "      <th>geo</th>\n",
       "      <th>population_living_in_a_rural_area</th>\n",
       "    </tr>\n",
       "  </thead>\n",
       "  <tbody>\n",
       "    <tr>\n",
       "      <th>0</th>\n",
       "      <td>2016</td>\n",
       "      <td>Kemper County</td>\n",
       "      <td>05000US28069</td>\n",
       "      <td>1.0</td>\n",
       "    </tr>\n",
       "    <tr>\n",
       "      <th>1</th>\n",
       "      <td>2015</td>\n",
       "      <td>Kemper County</td>\n",
       "      <td>05000US28069</td>\n",
       "      <td>1.0</td>\n",
       "    </tr>\n",
       "    <tr>\n",
       "      <th>2</th>\n",
       "      <td>2017</td>\n",
       "      <td>Kemper County</td>\n",
       "      <td>05000US28069</td>\n",
       "      <td>1.0</td>\n",
       "    </tr>\n",
       "    <tr>\n",
       "      <th>3</th>\n",
       "      <td>2017</td>\n",
       "      <td>Walthall County</td>\n",
       "      <td>05000US28147</td>\n",
       "      <td>1.0</td>\n",
       "    </tr>\n",
       "    <tr>\n",
       "      <th>4</th>\n",
       "      <td>2016</td>\n",
       "      <td>Walthall County</td>\n",
       "      <td>05000US28147</td>\n",
       "      <td>1.0</td>\n",
       "    </tr>\n",
       "  </tbody>\n",
       "</table>\n",
       "</div>"
      ],
      "text/plain": [
       "   year         geo_name           geo  population_living_in_a_rural_area\n",
       "0  2016    Kemper County  05000US28069                                1.0\n",
       "1  2015    Kemper County  05000US28069                                1.0\n",
       "2  2017    Kemper County  05000US28069                                1.0\n",
       "3  2017  Walthall County  05000US28147                                1.0\n",
       "4  2016  Walthall County  05000US28147                                1.0"
      ]
     },
     "execution_count": 12,
     "metadata": {},
     "output_type": "execute_result"
    }
   ],
   "source": [
    "rural_pop_df.head()"
   ]
  },
  {
   "cell_type": "markdown",
   "metadata": {},
   "source": [
    "List of all dataframes-"
   ]
  },
  {
   "cell_type": "code",
   "execution_count": 13,
   "metadata": {},
   "outputs": [],
   "source": [
    "all_dfs = [average_age_df,average_sal_df,average_tt_df,obesity_df,workforce_fulltime_df,gini_df,poverty_df,uninsured_df,population_df,rural_pop_df]"
   ]
  },
  {
   "cell_type": "code",
   "execution_count": 14,
   "metadata": {},
   "outputs": [
    {
     "data": {
      "text/plain": [
       "10"
      ]
     },
     "execution_count": 14,
     "metadata": {},
     "output_type": "execute_result"
    }
   ],
   "source": [
    "len(all_dfs)"
   ]
  },
  {
   "cell_type": "markdown",
   "metadata": {},
   "source": [
    "Concatenating them together to get an idea of the feature space."
   ]
  },
  {
   "cell_type": "code",
   "execution_count": 15,
   "metadata": {},
   "outputs": [],
   "source": [
    "master_concat = pd.concat(all_dfs,axis=0)"
   ]
  },
  {
   "cell_type": "code",
   "execution_count": 16,
   "metadata": {},
   "outputs": [
    {
     "name": "stdout",
     "output_type": "stream",
     "text": [
      "<class 'pandas.core.frame.DataFrame'>\n",
      "Int64Index: 62513 entries, 0 to 9417\n",
      "Data columns (total 23 columns):\n",
      "adult_obesity                        9418 non-null float64\n",
      "avg_age                              4756 non-null float64\n",
      "avg_age_moe                          4756 non-null float64\n",
      "avg_wage_ft                          4756 non-null float64\n",
      "avg_wage_ft_moe                      4756 non-null float64\n",
      "geo                                  62513 non-null object\n",
      "geo_name                             62513 non-null object\n",
      "gini                                 4756 non-null float64\n",
      "income_below_poverty                 2787 non-null float64\n",
      "income_below_poverty.1               2787 non-null float64\n",
      "income_below_poverty_moe             2787 non-null float64\n",
      "mean_commute_minutes                 9661 non-null float64\n",
      "num_ppl_ft                           4756 non-null float64\n",
      "num_ppl_ft_moe                       4756 non-null float64\n",
      "pop                                  2787 non-null float64\n",
      "pop_moe                              2787 non-null float64\n",
      "pop_poverty_status                   2787 non-null float64\n",
      "pop_poverty_status.1                 2787 non-null float64\n",
      "pop_poverty_status_moe               2787 non-null float64\n",
      "pop_rank                             2787 non-null float64\n",
      "population_living_in_a_rural_area    9418 non-null float64\n",
      "uninsured_adults                     9418 non-null object\n",
      "year                                 62513 non-null int64\n",
      "dtypes: float64(19), int64(1), object(3)\n",
      "memory usage: 11.4+ MB\n"
     ]
    }
   ],
   "source": [
    "master_concat.info()"
   ]
  },
  {
   "cell_type": "code",
   "execution_count": 17,
   "metadata": {},
   "outputs": [
    {
     "data": {
      "text/plain": [
       "6533"
      ]
     },
     "execution_count": 17,
     "metadata": {},
     "output_type": "execute_result"
    }
   ],
   "source": [
    "len(master_concat.geo.unique())"
   ]
  },
  {
   "cell_type": "markdown",
   "metadata": {},
   "source": [
    "Looks like we have 6,533 unique geographies."
   ]
  },
  {
   "cell_type": "markdown",
   "metadata": {},
   "source": [
    "After analysis and trial & error, I do not have a clear idea about how to go about the classification task. \n",
    "### But I'm gonna describe my thought process."
   ]
  },
  {
   "cell_type": "code",
   "execution_count": 37,
   "metadata": {},
   "outputs": [
    {
     "data": {
      "text/plain": [
       "Index(['adult_obesity', 'avg_age', 'avg_age_moe', 'avg_wage_ft',\n",
       "       'avg_wage_ft_moe', 'geo_name', 'gini', 'income_below_poverty',\n",
       "       'income_below_poverty.1', 'income_below_poverty_moe',\n",
       "       'mean_commute_minutes', 'num_ppl_ft', 'num_ppl_ft_moe', 'pop',\n",
       "       'pop_moe', 'pop_poverty_status', 'pop_poverty_status.1',\n",
       "       'pop_poverty_status_moe', 'pop_rank',\n",
       "       'population_living_in_a_rural_area', 'uninsured_adults', 'year'],\n",
       "      dtype='object')"
      ]
     },
     "execution_count": 37,
     "metadata": {},
     "output_type": "execute_result"
    }
   ],
   "source": [
    "master_concat.columns"
   ]
  },
  {
   "cell_type": "markdown",
   "metadata": {},
   "source": [
    "The master_concat dataframe has all the possible features for the classification model."
   ]
  },
  {
   "cell_type": "markdown",
   "metadata": {},
   "source": [
    "### Initially try to break down all the geographies by those that have data for at least a couple of years so that we know if that geography shows signs of development or not.\n"
   ]
  },
  {
   "cell_type": "markdown",
   "metadata": {},
   "source": [
    "### Proceed to creating features for such geographies like 'Buy' and 'Sell'. A geography might have a 1 in the 'Buy' feature and 0 in 'Sell' if it exhibits potential for good investment. A geography might have 0 in 'Buy' and 1 in 'Sell' if it doesn't show any promise of good investment. A geographical location that has a 0 in both 'Buy' and 'Sell' implies that it should be considered as 'Hold'."
   ]
  },
  {
   "cell_type": "markdown",
   "metadata": {},
   "source": [
    "### A margin for what could be considered a 'good' investment still needs to be defined- for example: if a geo has population growth (>100,000) or an marginal increment in average salaries (>1000$), then it could be considered as a 'good' investment."
   ]
  },
  {
   "cell_type": "markdown",
   "metadata": {},
   "source": [
    "### Similar marginal windows of 'good' and 'bad' investments can be defined for other features like obesity, average age, commute time, poverty, income etc."
   ]
  },
  {
   "cell_type": "markdown",
   "metadata": {},
   "source": [
    "### In this scenario we're gonna end up with a dataframe that has <6533 rows (number of unique geos with at least a couple of years of data) and over 10 features/columns ('positive_pop_growth','salary_growth','obesity_factor' along with 'Buy' and 'Sell') : all of which are binary variables. They could either be 1 or 0 based on growth/change in the feature over the course of an year."
   ]
  },
  {
   "cell_type": "markdown",
   "metadata": {},
   "source": [
    "### We plug all these features into a classifer such as a simple Multinomial Logistic Regression model, K-Neighbors Classifier, Ridge Classifier or the classic Random Forest Classifier. These are going to be a multiclass classification models so the prediction labels will be 'Buy' and 'Sell' (with 0 for both implying 'Hold')"
   ]
  },
  {
   "cell_type": "markdown",
   "metadata": {},
   "source": [
    "### Model tuning by finding the right set of hyperparamters with Grid Search to find the best set of paramters for the model and also ensuring that it performs well on unseen data by performing cross validation."
   ]
  },
  {
   "cell_type": "markdown",
   "metadata": {},
   "source": [
    "### Last but not the least - Evaluating the model based on the confusion matrix. Examing the ROC curve and computing the most optimal Area Under the curve of ROC in the quest to determine the best classifier."
   ]
  },
  {
   "cell_type": "code",
   "execution_count": null,
   "metadata": {},
   "outputs": [],
   "source": []
  }
 ],
 "metadata": {
  "kernelspec": {
   "display_name": "Python 3",
   "language": "python",
   "name": "python3"
  },
  "language_info": {
   "codemirror_mode": {
    "name": "ipython",
    "version": 3
   },
   "file_extension": ".py",
   "mimetype": "text/x-python",
   "name": "python",
   "nbconvert_exporter": "python",
   "pygments_lexer": "ipython3",
   "version": "3.6.1"
  }
 },
 "nbformat": 4,
 "nbformat_minor": 2
}
